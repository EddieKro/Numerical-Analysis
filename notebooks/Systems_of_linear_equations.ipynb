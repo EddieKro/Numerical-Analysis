{
 "cells": [
  {
   "cell_type": "code",
   "execution_count": 1,
   "metadata": {},
   "outputs": [],
   "source": [
    "import numpy as np"
   ]
  },
  {
   "cell_type": "markdown",
   "metadata": {},
   "source": [
    "### [Gaussian elimination](https://en.wikipedia.org/wiki/Gaussian_elimination)"
   ]
  },
  {
   "cell_type": "code",
   "execution_count": 2,
   "metadata": {},
   "outputs": [],
   "source": [
    "def gaussian(A,b):\n",
    "    \"\"\"\n",
    "    Arguments:\n",
    "    A -- numpy.ndarray -- given system of coeffitients\n",
    "    x -- numpy.ndarray -- unknown vector X \n",
    "    b -- vector b\n",
    "    Output:\n",
    "    x -- root of the system of equations A*x=b\n",
    "    \"\"\"\n",
    "    n,matr = len(b),np.hstack([A,b.reshape(-1,1)])\n",
    "    if np.linalg.det(A)==0: \n",
    "        return -1\n",
    "    \n",
    "    #direct move\n",
    "    for i in range(n):\n",
    "        a = matr[i]\n",
    "        for j in range(i+1,n):\n",
    "            b = matr[j]\n",
    "            m = a[i]/b[i]\n",
    "            matr[j] = a - m*b\n",
    "            \n",
    "    #reversed move\n",
    "    for i in range(n-1,-1,-1):\n",
    "        matr[i]= matr[i]/matr[i,i]\n",
    "        a = matr[i]\n",
    "        for j in range(i-1,-1,-1):\n",
    "            b = matr[j]\n",
    "            m = a[i]/b[i]\n",
    "            matr[j] = a - m*b\n",
    "\n",
    "    return matr[:,3]"
   ]
  },
  {
   "cell_type": "code",
   "execution_count": 3,
   "metadata": {},
   "outputs": [
    {
     "name": "stdout",
     "output_type": "stream",
     "text": [
      "[ -4. -13.  11.]\n"
     ]
    }
   ],
   "source": [
    "A = np.array([[1, 2, 3], [3, 5, 7], [1, 3, 4]], dtype='float')\n",
    "b = np.array([3, 0, 1])\n",
    "print(gaussian(A,b))\n",
    "t1,t2 = gaussian(A,b),np.linalg.solve(A,b)\n",
    "t1 = np.round(t1,10)\n",
    "t2 = np.round(t2,10)\n",
    "np.testing.assert_array_equal(t1,t2)"
   ]
  },
  {
   "cell_type": "markdown",
   "metadata": {},
   "source": [
    "### [Cholesky decomposition](https://en.wikipedia.org/wiki/Cholesky_decomposition) a.k.a. Least Squares Method\n",
    "\n",
    "$Ax=b$<br>\n",
    "\n",
    "If A is symmetric & [positive-definite](https://en.wikipedia.org/wiki/Definiteness_of_a_matrix):<br>\n",
    "Let $A := L*L^T$<br>\n",
    "\n",
    "$L * y=b $ - forward substitution <br>\n",
    "$L^T*x=y $  - back substitution<br><br>\n",
    "\n",
    "LDLT decomposition:<br>\n",
    "\n",
    "Let $A:= L * D * L^T$<br>\n",
    "$L * y = b $<br>\n",
    "$DL* x = y $"
   ]
  },
  {
   "cell_type": "code",
   "execution_count": 4,
   "metadata": {},
   "outputs": [],
   "source": [
    "def ldl_decomposition(A):\n",
    "    L_cholesky = np.linalg.cholesky(A)\n",
    "    S = L_cholesky.diagonal()\n",
    "    D = S**2\n",
    "    S_inv = np.linalg.inv(np.diagflat(S))\n",
    "    L = np.dot(L_cholesky,S_inv)\n",
    "    return L,D\n",
    "def cholesky(A,b):\n",
    "    if np.array_equal(A,A.T):\n",
    "        try:\n",
    "            L = np.linalg.cholesky(A)\n",
    "            y = np.linalg.solve(L,b)\n",
    "            x = np.linalg.solve(L.T,y)\n",
    "        except np.linalg.LinAlgError:\n",
    "            return \"Unsutable matrix\"\n",
    "    return x"
   ]
  },
  {
   "cell_type": "code",
   "execution_count": 5,
   "metadata": {},
   "outputs": [
    {
     "data": {
      "text/plain": [
       "(array([[ 1.,  0.,  0.],\n",
       "        [ 3.,  1.,  0.],\n",
       "        [-4.,  5.,  1.]]), array([4., 1., 9.]))"
      ]
     },
     "execution_count": 5,
     "metadata": {},
     "output_type": "execute_result"
    }
   ],
   "source": [
    "T = np.array([[4,12,-16],[12,37,-43],[-16,-43,98]])\n",
    "A,b = np.array([[25,15,-5],[15,18,0],[-5,0,11]]),np.array([-2,0.25,10.2])\n",
    "cholesky(A,b)\n",
    "ldl_decomposition(T)"
   ]
  },
  {
   "cell_type": "markdown",
   "metadata": {},
   "source": [
    "### [Tridiagonal matrix algorithm](https://en.wikipedia.org/wiki/Tridiagonal_matrix_algorithm)"
   ]
  },
  {
   "cell_type": "code",
   "execution_count": 6,
   "metadata": {},
   "outputs": [],
   "source": [
    "def get_coeff_vect(array):\n",
    "    \"\"\"\n",
    "    Arguments:\n",
    "    ----------\n",
    "    array -- array of shape(n,n)\n",
    "    returns triagonals a,b,c\n",
    "    Output:\n",
    "    a,b,c -- tridiagonals of an array\n",
    "    \"\"\"\n",
    "    n = len(array)\n",
    "    ind1,ind2 = [i for i in range(1,n)],[i-1 for i in range(1,n)]\n",
    "    a = np.copy(array[ind1,ind2])\n",
    "    b = np.copy(array[[i for i in range(n)],[i for i in range(n)]])\n",
    "    c = np.copy(array[ind2,ind1])\n",
    "    return a,b,c\n",
    "\n",
    "\n",
    "def tridiagonal_matr_algo(arr,f):\n",
    "    \"\"\"\n",
    "    Arguments:\n",
    "    ----------\n",
    "    arr -- array of shape(n,n)\n",
    "    f -- vector of shape(n,)\n",
    "    local_coeff -- bool, uses slighty different calculations\n",
    "    Output:\n",
    "    x -- solution of system of equations A*x = f\n",
    "    \"\"\"\n",
    "    n,f= len(arr),np.copy(f)  \n",
    "    a,b,c = get_coeff_vect(arr)\n",
    "    \n",
    "    # forward step\n",
    "    for i in range(1,n):\n",
    "        w = a[i-1]/b[i-1]\n",
    "        b[i] -= w*c[i-1]\n",
    "        f[i] -= w*f[i-1]\n",
    "\n",
    "    #backward step\n",
    "    x = b\n",
    "    x[-1] = f[-1]/b[-1]\n",
    "    for i in range(n-2,-1,-1):\n",
    "        x[i]=(f[i]-c[i]*x[i+1])/(b[i])\n",
    "    \n",
    "    return x   "
   ]
  },
  {
   "cell_type": "code",
   "execution_count": 7,
   "metadata": {},
   "outputs": [],
   "source": [
    "A,d = np.array([[-4,1,0,0],[1,-4,-1,0],[0,1,-4,1],[0,0,1,-4]],dtype=float),np.array([-6,-4,-4,-6],dtype=float)"
   ]
  },
  {
   "cell_type": "code",
   "execution_count": 8,
   "metadata": {},
   "outputs": [
    {
     "name": "stdout",
     "output_type": "stream",
     "text": [
      "TMA: [2. 2. 2. 2.]\n",
      "Standard Gaussian solver: [2. 2. 2. 2.]\n"
     ]
    }
   ],
   "source": [
    "C,d = np.array([[-4,1,0,0],[1,-4,1,0],[0,1,-4,1],[0,0,1,-4]],dtype=float),np.array([-6,-4,-4,-6],dtype=float)\n",
    "print(\"TMA: {0}\".format(tridiagonal_matr_algo(C,d)))\n",
    "print(\"Standard Gaussian solver: {0}\".format(np.linalg.solve(C,d)))"
   ]
  }
 ],
 "metadata": {
  "kernelspec": {
   "display_name": "Python [default]",
   "language": "python",
   "name": "python3"
  },
  "language_info": {
   "codemirror_mode": {
    "name": "ipython",
    "version": 3
   },
   "file_extension": ".py",
   "mimetype": "text/x-python",
   "name": "python",
   "nbconvert_exporter": "python",
   "pygments_lexer": "ipython3",
   "version": "3.6.5"
  }
 },
 "nbformat": 4,
 "nbformat_minor": 2
}
