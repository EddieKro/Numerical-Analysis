{
 "cells": [
  {
   "cell_type": "code",
   "execution_count": 1,
   "metadata": {},
   "outputs": [],
   "source": [
    "import numpy as np"
   ]
  },
  {
   "cell_type": "markdown",
   "metadata": {},
   "source": [
    "### [Seidel method](https://en.wikipedia.org/wiki/Gauss%E2%80%93Seidel_method)\n",
    "\n",
    "$Ax = b$<br>\n",
    "\n",
    "$L_* $ - lower triangular component of A <br>\n",
    "$U $  - strict upper triangular component of A<br><br>\n",
    "$T = -L_*^{-1}U$<br>\n",
    "$C=L_*^{-1}b$<br>\n",
    "\n",
    "iteratively, $x^{(k+1)}=Tx^{(k)}+C$"
   ]
  },
  {
   "cell_type": "code",
   "execution_count": 2,
   "metadata": {},
   "outputs": [],
   "source": [
    "def seidel(A,b,x0,eps):\n",
    "    \"\"\"\n",
    "    Arguments:\n",
    "    A -- array of shape(n,n)\n",
    "    b -- array of shape(n,1)\n",
    "    x0 -- initial guess - array of shape(n)\n",
    "    eps -- precision\n",
    "    Returns:\n",
    "    x1 -- array of shape(n,)\n",
    "    n -- number of iterations\n",
    "    \"\"\"\n",
    "    L,U = np.tril(A),np.triu(A,1)\n",
    "    L_inv = np.linalg.inv(L)\n",
    "    \n",
    "    T,C = np.dot(-L_inv,U), np.dot(L_inv,b)\n",
    "    \n",
    "    n, x1 = 0, np.dot(T,x)+C\n",
    "    while not np.allclose(x0,x1,rtol=eps):\n",
    "        x0 = x1\n",
    "        x1 = np.dot(T,x0)+C\n",
    "        n+=1\n",
    "        if n==1000:\n",
    "            return \"smth went wrong\"\n",
    "    return x1,n"
   ]
  },
  {
   "cell_type": "code",
   "execution_count": 5,
   "metadata": {},
   "outputs": [
    {
     "data": {
      "text/plain": [
       "(array([ 0.81218274, -0.66497462]), 9)"
      ]
     },
     "execution_count": 5,
     "metadata": {},
     "output_type": "execute_result"
    }
   ],
   "source": [
    "A,b,x = np.array([[16,3],[7,-11]]),np.array([11,13]),np.array([1,1],dtype=float)\n",
    "seidel(A,b,x,1e-8)"
   ]
  },
  {
   "cell_type": "code",
   "execution_count": 7,
   "metadata": {},
   "outputs": [
    {
     "data": {
      "text/plain": [
       "(array([1., 1., 1.]), 9)"
      ]
     },
     "execution_count": 7,
     "metadata": {},
     "output_type": "execute_result"
    }
   ],
   "source": [
    "C,d,x = np.array([[2/3,1/6,0],[1/6,2/3,1/6],[0,1/6,2/3]],dtype=float),np.array([5/6,1,5/6]) ,np.array([0,0,0],dtype=float)\n",
    "seidel(C,d,x,1e-7)"
   ]
  }
 ],
 "metadata": {
  "kernelspec": {
   "display_name": "Python [default]",
   "language": "python",
   "name": "python3"
  },
  "language_info": {
   "codemirror_mode": {
    "name": "ipython",
    "version": 3
   },
   "file_extension": ".py",
   "mimetype": "text/x-python",
   "name": "python",
   "nbconvert_exporter": "python",
   "pygments_lexer": "ipython3",
   "version": "3.6.5"
  }
 },
 "nbformat": 4,
 "nbformat_minor": 2
}
