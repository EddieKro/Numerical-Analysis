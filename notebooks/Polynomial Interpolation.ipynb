{
 "cells": [
  {
   "cell_type": "code",
   "execution_count": 3,
   "metadata": {},
   "outputs": [],
   "source": [
    "import sympy \n",
    "import numpy as np\n",
    "import matplotlib.pyplot as plt"
   ]
  },
  {
   "cell_type": "markdown",
   "metadata": {},
   "source": [
    "## [Polynomial interpolation](https://en.wikipedia.org/wiki/Polynomial_interpolation)\n"
   ]
  },
  {
   "cell_type": "markdown",
   "metadata": {},
   "source": [
    "\n",
    "### [Lagrange polynomial](https://en.wikipedia.org/wiki/Lagrange_polynomial)\n"
   ]
  },
  {
   "cell_type": "code",
   "execution_count": 7,
   "metadata": {},
   "outputs": [],
   "source": [
    "#correct implementation: fit using train, generate an equation, then use it to evaluate test\n",
    "def LagrangePolynomial_fit(X,Y):\n",
    "    x,n = sympy.Symbol('x'),len(X)\n",
    "    function = 0\n",
    "    for i in range(n):\n",
    "        def L(i):\n",
    "            Lv = 1\n",
    "            for j in range(n):\n",
    "                if i!=j:\n",
    "                    Lv*=(x - X[j])/(X[i]-X[j])\n",
    "            return Lv\n",
    "        function+=Y[i]*L(i)\n",
    "    return function\n",
    "def LagrangePolynomial_predict(x,function):\n",
    "    return function.subs({'x':x})"
   ]
  },
  {
   "cell_type": "code",
   "execution_count": 4,
   "metadata": {},
   "outputs": [],
   "source": [
    "x=np.array([0.38,0.49,0.99,1.09,1.19,1.40,1.71,1.72,2.04,2.38,2.53], dtype=float)\n",
    "y=np.array([1.462,1.632,2.691,2.974,3.287,4.055,5.528,5.584,7.690,10.804,12.553], dtype=float)\n",
    "\n",
    "function = LagrangePolynomial_fit(x,y)\n",
    "\n",
    "xnew=np.linspace(np.min(x),np.max(x),20)\n",
    "ynew = [LagrangePolynomial_predict(x,function) for x in xnew]"
   ]
  },
  {
   "cell_type": "markdown",
   "metadata": {},
   "source": [
    "### [Chebyshev polynomial]()"
   ]
  }
 ],
 "metadata": {
  "kernelspec": {
   "display_name": "Python [default]",
   "language": "python",
   "name": "python3"
  },
  "language_info": {
   "codemirror_mode": {
    "name": "ipython",
    "version": 3
   },
   "file_extension": ".py",
   "mimetype": "text/x-python",
   "name": "python",
   "nbconvert_exporter": "python",
   "pygments_lexer": "ipython3",
   "version": "3.6.5"
  }
 },
 "nbformat": 4,
 "nbformat_minor": 2
}
