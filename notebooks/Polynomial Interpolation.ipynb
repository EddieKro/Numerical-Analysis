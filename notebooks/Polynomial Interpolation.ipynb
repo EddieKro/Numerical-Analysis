{
 "cells": [
  {
   "cell_type": "code",
   "execution_count": 4,
   "metadata": {},
   "outputs": [],
   "source": [
    "import sympy \n",
    "import numpy as np\n",
    "import math\n",
    "import matplotlib.pyplot as plt\n",
    "%matplotlib inline"
   ]
  },
  {
   "cell_type": "markdown",
   "metadata": {},
   "source": [
    "## [Polynomial interpolation](https://en.wikipedia.org/wiki/Polynomial_interpolation)\n"
   ]
  },
  {
   "cell_type": "markdown",
   "metadata": {},
   "source": [
    "\n",
    "### [Lagrange polynomial](https://en.wikipedia.org/wiki/Lagrange_polynomial)\n"
   ]
  },
  {
   "cell_type": "markdown",
   "metadata": {},
   "source": [
    "Let´s say we have a set of 'train' points ($X_i,Y_i$). Our goal is to generate a polynomial which approximates a function over a set of points\n",
    "* Firstly, we form L(x) using train data:  $L(x):= \\sum\\limits_{j=0}^k y_jl_j(x)$ <br>\n",
    "* For each $j$: $l_j(x):= \\prod\\limits_{m=0,m!=j}^k \\frac{x-x_m}{x_j-x_m} $\n",
    "* Secondly, we calculate predictions using L(x), for any x from a test set\n"
   ]
  },
  {
   "cell_type": "code",
   "execution_count": 2,
   "metadata": {},
   "outputs": [],
   "source": [
    "#correct implementation: fit using train, generate an equation, then use it to evaluate test\n",
    "def LagrangePolynomial_interpolate(X,Y):\n",
    "    x,n = sympy.Symbol('x'),len(X)\n",
    "    function = 0\n",
    "    for i in range(n):\n",
    "        def L(i):\n",
    "            Lv = 1\n",
    "            for j in range(n):\n",
    "                if i!=j:\n",
    "                    Lv*=(x - X[j])/(X[i]-X[j])\n",
    "            return Lv\n",
    "        function+=Y[i]*L(i)\n",
    "    return function\n",
    "def LagrangePolynomial_predict(x,function):\n",
    "    return function.subs({'x':x})"
   ]
  },
  {
   "cell_type": "code",
   "execution_count": 3,
   "metadata": {},
   "outputs": [],
   "source": [
    "x=np.array([0.38,0.49,0.99,1.09,1.19,1.40,1.71,1.72,2.04,2.38,2.53], dtype=float)\n",
    "y=np.array([1.462,1.632,2.691,2.974,3.287,4.055,5.528,5.584,7.690,10.804,12.553], dtype=float)\n",
    "\n",
    "function = LagrangePolynomial_interpolate(x,y)\n",
    "\n",
    "xnew=np.linspace(np.min(x),np.max(x),20)\n",
    "ynew = [LagrangePolynomial_predict(x,function) for x in xnew]"
   ]
  },
  {
   "cell_type": "code",
   "execution_count": 4,
   "metadata": {},
   "outputs": [],
   "source": [
    "x,f = np.array([-1, 0, 1]),np.array([-3,1,2])\n",
    "function = LagrangePolynomial_interpolate(x,f)\n",
    "\n",
    "xnew = np.linspace(np.min(x),np.max(x),20)\n",
    "ynew = [LagrangePolynomial_predict(x,function) for x in xnew]"
   ]
  },
  {
   "cell_type": "code",
   "execution_count": 5,
   "metadata": {},
   "outputs": [
    {
     "data": {
      "text/plain": [
       "[<matplotlib.lines.Line2D at 0x208cfb76940>]"
      ]
     },
     "execution_count": 5,
     "metadata": {},
     "output_type": "execute_result"
    },
    {
     "data": {
      "image/png": "[encoded data removed]",
      "text/plain": [
       "<Figure size 432x288 with 1 Axes>"
      ]
     },
     "metadata": {
      "needs_background": "light"
     },
     "output_type": "display_data"
    }
   ],
   "source": [
    "plt.plot(xnew,ynew)"
   ]
  },
  {
   "cell_type": "code",
   "execution_count": 6,
   "metadata": {},
   "outputs": [],
   "source": [
    "#0 to 2\n",
    "#f(0.6283) = 0.5878\n",
    "\n",
    "x,f = np.array([i/4 for i in range(0,9,1)]),np.array([0,0.2474,0.4794,0.6816,0.8415,0.949,0.9975,0.984,0.9093])\n",
    "function = LagrangePolynomial_interpolate(x,f)\n",
    "\n",
    "xnew = np.linspace(np.min(x),np.max(x),24)\n",
    "ynew = [LagrangePolynomial_predict(x,function) for x in xnew]\n",
    "\n"
   ]
  },
  {
   "cell_type": "code",
   "execution_count": 7,
   "metadata": {},
   "outputs": [
    {
     "data": {
      "text/plain": [
       "0.587718906206092"
      ]
     },
     "execution_count": 7,
     "metadata": {},
     "output_type": "execute_result"
    }
   ],
   "source": [
    "function.subs({'x':0.6283})"
   ]
  },
  {
   "cell_type": "code",
   "execution_count": 8,
   "metadata": {},
   "outputs": [
    {
     "data": {
      "text/plain": [
       "[<matplotlib.lines.Line2D at 0x208cfe84f98>]"
      ]
     },
     "execution_count": 8,
     "metadata": {},
     "output_type": "execute_result"
    },
    {
     "data": {
      "image/png": "[encoded data removed]",
      "text/plain": [
       "<Figure size 432x288 with 1 Axes>"
      ]
     },
     "metadata": {
      "needs_background": "light"
     },
     "output_type": "display_data"
    }
   ],
   "source": [
    "plt.plot(xnew,ynew)"
   ]
  },
  {
   "cell_type": "markdown",
   "metadata": {},
   "source": [
    "## [Chebyshev polynomial interpolation](https://people.sc.fsu.edu/~jburkardt/f_src/chebyshev/chebyshev.html)"
   ]
  },
  {
   "cell_type": "markdown",
   "metadata": {},
   "source": [
    "To form an interplation polynomial on a segment [-1;1], we do the following:\n",
    "* Firstly, we form Chebyshev polynomials $T$ via recursive formula:\n",
    "    * $ T_0:=1, T_1:=x$ \n",
    "    * $T_{k+1} = 2x * T_k -T_{k-1} $\n",
    "* Secondly, we calculate coefficients $A$ using formulas:\n",
    "    * $A_0 := \\frac{1}{n+1} * \\sum\\limits_{k=0}^n f(x_k)  $ \n",
    "    * $A_j := \\frac{2}{n+1} * \\sum\\limits_{k=0}^n f(x_k)*T_j(x_k) $\n",
    "* Finally, we form an interpolation polynomial:\n",
    "    * $L(x) := \\sum\\limits_{k=0}^nA_k * T_k $"
   ]
  },
  {
   "cell_type": "code",
   "execution_count": 9,
   "metadata": {},
   "outputs": [],
   "source": [
    "from math import *\n",
    "class ChebyshevB:\n",
    "    \"\"\"\n",
    "    Given a function, limits of the interval [a,b] and maximum degree n, class computes Chebyshev approximation of the function.\n",
    "    \"\"\"\n",
    "    def __init__(self,a,b,n,func):\n",
    "        self.a=a\n",
    "        self.b=b\n",
    "        \n",
    "        bma,bpa = 0.5 * (b-a), 0.5 * (b+a)\n",
    "        f = [func(cos(pi * (k+0.5) / n ) * bma + bpa) for k in range(n)]\n",
    "        fac = 2.0/n\n",
    "        self.c = [fac * sum([f[k] * cos(pi * j * (k+0.5)/n) for k in range(n)]) for j in range(n)]\n",
    "        \n",
    "    def eval(self,x):\n",
    "        assert (self.a<=x<=self.b)\n",
    "        y = (2.0 * x - self.a - self.b) * (1.0 / (self.b-self.a))\n",
    "        y2,d,dd = 2.0*y,self.c[-1],0\n",
    "        for cj in self.c[-2:0:-1]:\n",
    "            (d,dd) = (y2*d-dd+cj,d)\n",
    "        return y * d - dd + 0.5 * self.c[0]        "
   ]
  },
  {
   "cell_type": "code",
   "execution_count": 10,
   "metadata": {},
   "outputs": [
    {
     "name": "stdout",
     "output_type": "stream",
     "text": [
      "0.09983291587368016\n"
     ]
    }
   ],
   "source": [
    "ch = ChebyshevB(-1,1,6,sin)\n",
    "print(ch.eval(0.1))\n",
    "assert(round(sin(0.1),5) == round(ch.eval(0.1),5))"
   ]
  },
  {
   "cell_type": "code",
   "execution_count": 7,
   "metadata": {},
   "outputs": [],
   "source": [
    "from math import pi"
   ]
  },
  {
   "cell_type": "code",
   "execution_count": 8,
   "metadata": {},
   "outputs": [],
   "source": [
    "class Chebyshev:\n",
    "    \"\"\"\n",
    "    self.f -- function (i.e., sin)\n",
    "    self.L -- resulting Chebyshev interpolation polynomial\n",
    "    self.T -- Chebyshev polynomials\n",
    "    \"\"\"    \n",
    "    def generate_x(self,k,n):\n",
    "        return math.cos((pi*(2*k+1))/(2*(n+1)))\n",
    "    def generate_y(self):\n",
    "        return [self.f(k) for k in self.X]\n",
    "\n",
    "    def __init__(self,k,n,f):\n",
    "        \"\"\"\n",
    "        Arguments:\n",
    "        ---------\n",
    "        f -- input func (i.e, sin)\n",
    "        k -- number of points\n",
    "        n -- number of polys\n",
    "        \"\"\"    \n",
    "        self.x,self.f = sympy.Symbol('x'),f    \n",
    "        self.X,self.n = [self.generate_x(i,n) for i in range(k)],n\n",
    "        \n",
    "        self.Y = self.generate_y()\n",
    "        self.T = self.generateT()\n",
    "        self.A = self.generateA()\n",
    "        \n",
    "        self.L = sum(a*t for a,t in zip(self.A,self.T))\n",
    "        \n",
    "    def generateT(self):\n",
    "        T_i = lambda i: 2*self.x*T[i-1]-T[i-2]\n",
    "        T = [1,self.x]\n",
    "        for k in range(2,self.n+1):\n",
    "            T.append(T_i(k))\n",
    "        return T\n",
    "    \n",
    "    def generateA(self):\n",
    "        A = [(sum(self.Y)/(self.n+1))] #a_0\n",
    "        A.extend([(2/(self.n+1))*sum(y*self.T[i].subs({'x':x}) for x,y in zip(self.X,self.Y)) for i in range(1,self.n+1)])\n",
    "        return A\n",
    "    \n",
    "    def getX(self):\n",
    "        return self.X\n",
    "    def getY(self):\n",
    "        return self.Y\n",
    "    \n",
    "    def getA(self):\n",
    "        return self.A\n",
    "    def getT(self):\n",
    "        return self.T\n",
    "    \n",
    "    def getL(self):\n",
    "        return self.L\n",
    "    \n",
    "    def eval(self,x):\n",
    "        self.L\n",
    "        return self.L.subs({'x':x})"
   ]
  },
  {
   "cell_type": "code",
   "execution_count": 14,
   "metadata": {},
   "outputs": [
    {
     "data": {
      "text/plain": [
       "0.701642448985430"
      ]
     },
     "execution_count": 14,
     "metadata": {},
     "output_type": "execute_result"
    }
   ],
   "source": [
    "ch = Chebyshev(9,8, math.sin)\n",
    "ch.eval(0.7777)"
   ]
  }
 ],
 "metadata": {
  "kernelspec": {
   "display_name": "Python 3",
   "language": "python",
   "name": "python3"
  },
  "language_info": {
   "codemirror_mode": {
    "name": "ipython",
    "version": 3
   },
   "file_extension": ".py",
   "mimetype": "text/x-python",
   "name": "python",
   "nbconvert_exporter": "python",
   "pygments_lexer": "ipython3",
   "version": "3.7.1"
  }
 },
 "nbformat": 4,
 "nbformat_minor": 2
}
