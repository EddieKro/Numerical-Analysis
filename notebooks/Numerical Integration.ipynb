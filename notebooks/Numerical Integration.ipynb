{
 "cells": [
  {
   "cell_type": "code",
   "execution_count": 1,
   "metadata": {},
   "outputs": [],
   "source": [
    "import math\n",
    "def f1(x):\n",
    "    return x**3+4*x**2+16\n",
    "def cos2x(x):\n",
    "    return math.cos(2*x)"
   ]
  },
  {
   "cell_type": "markdown",
   "metadata": {},
   "source": [
    "## Numerical integration"
   ]
  },
  {
   "cell_type": "code",
   "execution_count": 43,
   "metadata": {},
   "outputs": [],
   "source": [
    "class NumericalIntegration:\n",
    "    \n",
    "    def loss(self,a,b,m,n,param,h=None):\n",
    "        \"\"\"\n",
    "        Arguments:\n",
    "        a,b -- bonds of a segment\n",
    "        m -- max(abs(f(n)(x))), x[a;b], f(n) - n-th derivative over x\n",
    "        n -- number of segments\n",
    "        param -- specifies loss\n",
    "        h -- interval between consecutive subsegments\n",
    "        \"\"\"\n",
    "        \n",
    "        if not h:\n",
    "            h = (b-a)/n\n",
    "        if param == \"riemann\":\n",
    "            return h**2*m*(b-a)/24\n",
    "        elif param == \"trapezoidal\":\n",
    "            return h**2 * m *(b-a)/12\n",
    "        else: #simpson\n",
    "            return h**4*m*(b-a)/2880\n",
    "    \n",
    "    def riemann(self,a,b,f,n,m=None):\n",
    "        \"\"\"\n",
    "        Arguments:\n",
    "         a,b -- bounds of a segment\n",
    "         f -- input function\n",
    "         n -- number of segments\n",
    "        Returns:\n",
    "         res -- integral value on a certain segment\n",
    "        \"\"\"\n",
    "        h = (b-a)/n\n",
    "        res = sum(f(a+h*(i+0.5)) for i in range(n))*h    \n",
    "\n",
    "        if m is not None:\n",
    "            return res, self.loss(a,b,m,n,\"riemann\",h)\n",
    "        return res\n",
    "    \n",
    "    \n",
    "    def trapezoidal(self,a,b,f,n,m=None):\n",
    "        \"\"\"\n",
    "        Arguments:\n",
    "        ----------\n",
    "        a,b -- bounds of a segment\n",
    "        f -- function\n",
    "        n -- number of segments, has to be even\n",
    "        m -- max(f''(x)) on [a;b]\n",
    "        Returns:\n",
    "        res -- integral value on a segment\n",
    "        loss -- error rate\n",
    "        \"\"\"\n",
    "\n",
    "        h = (b-a)/n    \n",
    "        X = [a+j*h for j in range(n+1)]\n",
    "        res = sum(f(X[i])+f(X[i+1]) for i in range(n))*0.5*h\n",
    "        if m is not None:\n",
    "            return res, self.loss(a,b,m,n,\"trapezoidal\",h)\n",
    "        return res  \n",
    "    \n",
    "    \n",
    "    def simpson(self,a,b,f,n,m=None): \n",
    "        \"\"\"\n",
    "        Arguments:\n",
    "        ----------\n",
    "        a,b -- bounds of a segment\n",
    "        f -- function\n",
    "        Returns:\n",
    "        --------\n",
    "        integral value at on a certain segment\n",
    "        \"\"\"\n",
    "        h = (b-a)/n\n",
    "        res = h/6 * sum(f(a+h*i) + 4*f(a+h*(i+0.5)) + f(a+h*(i+1)) for i in range(n))  \n",
    "        if m:\n",
    "            return res, self.loss(a,b,m,n,\"simpson\",h)\n",
    "        return res\n"
   ]
  },
  {
   "cell_type": "code",
   "execution_count": 48,
   "metadata": {},
   "outputs": [
    {
     "name": "stdout",
     "output_type": "stream",
     "text": [
      "(0.5005144120713542, 0.0008074551218828077)\n",
      "(0.4989714931771786, 0.0016149102437656153)\n",
      "(0.5000001057732957, 1.6602630467951466e-07)\n"
     ]
    }
   ],
   "source": [
    "n = NumericalIntegration()\n",
    "print(n.riemann(0,math.pi/4,cos2x,10,4))\n",
    "print(n.trapezoidal(0,math.pi/4,cos2x,10,4))\n",
    "print(n.simpson(0,math.pi/4,cos2x,10,16))"
   ]
  },
  {
   "cell_type": "markdown",
   "metadata": {},
   "source": [
    "### [Monte-Carlo method](https://ru.wikipedia.org/wiki/%D0%9C%D0%B5%D1%82%D0%BE%D0%B4_%D0%9C%D0%BE%D0%BD%D1%82%D0%B5-%D0%9A%D0%B0%D1%80%D0%BB%D0%BE#%D0%98%D0%BD%D1%82%D0%B5%D0%B3%D1%80%D0%B8%D1%80%D0%BE%D0%B2%D0%B0%D0%BD%D0%B8%D0%B5_%D0%BC%D0%B5%D1%82%D0%BE%D0%B4%D0%BE%D0%BC_%D0%9C%D0%BE%D0%BD%D1%82%D0%B5-%D0%9A%D0%B0%D1%80%D0%BB%D0%BE) using expected value"
   ]
  },
  {
   "cell_type": "code",
   "execution_count": 18,
   "metadata": {},
   "outputs": [
    {
     "name": "stdout",
     "output_type": "stream",
     "text": [
      "[0.0, 0.5, 1.0, 1.5, 2.0, 2.5, 3.0, 3.5, 4.0, 4.5] 10\n"
     ]
    }
   ],
   "source": [
    "#splitting segment into N points\n",
    "a,b,n=0,5,10\n",
    "x = [a + ((b-a)/(n))*i for i in range(n)]\n",
    "print(x,len(x))"
   ]
  },
  {
   "cell_type": "code",
   "execution_count": 19,
   "metadata": {},
   "outputs": [],
   "source": [
    "def monteCarlo(a,b,f,n):\n",
    "    \"\"\"\n",
    "    Arguments:\n",
    "    ----------\n",
    "    a,b -- bounds of a segment\n",
    "    f -- function\n",
    "    n -- number of segments\n",
    "    Returns:\n",
    "    --------\n",
    "    res -- integral value on a certain segment\n",
    "    \"\"\"\n",
    "    \n",
    "    X = [a + ((b-a)/n)*i for i in range(n)]\n",
    "    return (b-a)*sum(f(p) for p in X)/n"
   ]
  },
  {
   "cell_type": "code",
   "execution_count": 20,
   "metadata": {},
   "outputs": [
    {
     "name": "stdout",
     "output_type": "stream",
     "text": [
      "0.4554865083873183\n",
      "17.460625\n",
      "1.7154196164130118\n"
     ]
    }
   ],
   "source": [
    "print(monteCarlo(0,1,math.sin,100))\n",
    "print(monteCarlo(0,1,f1,20))\n",
    "print(monteCarlo(0,1,math.exp,300))"
   ]
  },
  {
   "cell_type": "code",
   "execution_count": 21,
   "metadata": {},
   "outputs": [
    {
     "data": {
      "text/plain": [
       "0.503916709936791"
      ]
     },
     "execution_count": 21,
     "metadata": {},
     "output_type": "execute_result"
    }
   ],
   "source": [
    "monteCarlo(0,math.pi/4,cos2x,100)"
   ]
  }
 ],
 "metadata": {
  "kernelspec": {
   "display_name": "Python 3",
   "language": "python",
   "name": "python3"
  },
  "language_info": {
   "codemirror_mode": {
    "name": "ipython",
    "version": 3
   },
   "file_extension": ".py",
   "mimetype": "text/x-python",
   "name": "python",
   "nbconvert_exporter": "python",
   "pygments_lexer": "ipython3",
   "version": "3.7.1"
  }
 },
 "nbformat": 4,
 "nbformat_minor": 2
}
