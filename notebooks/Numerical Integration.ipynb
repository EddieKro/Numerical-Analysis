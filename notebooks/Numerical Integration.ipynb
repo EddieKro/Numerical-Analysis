{
 "cells": [
  {
   "cell_type": "code",
   "execution_count": 68,
   "metadata": {},
   "outputs": [],
   "source": [
    "import math\n",
    "def f1(x):\n",
    "    return x**3+4*x**2+16\n",
    "def cos2x(x):\n",
    "    return math.cos(2*x)"
   ]
  },
  {
   "cell_type": "markdown",
   "metadata": {},
   "source": [
    "## Numerical integration"
   ]
  },
  {
   "cell_type": "markdown",
   "metadata": {},
   "source": [
    "### [Riemann sum](https://en.wikipedia.org/wiki/Riemann_sum) (метод прямокутників)"
   ]
  },
  {
   "cell_type": "code",
   "execution_count": 78,
   "metadata": {},
   "outputs": [],
   "source": [
    "def riemann(a,b,f,n):\n",
    "    \"\"\"\n",
    "    Arguments:\n",
    "    ----------\n",
    "    a,b -- bounds of a segment\n",
    "    f -- input function\n",
    "    n -- number of segments\n",
    "    Returns:\n",
    "    --------\n",
    "    res -- integral value on a certain segment\n",
    "    \"\"\"\n",
    "    h = (b-a)/n\n",
    "    res = sum(f(a+h*(i+0.5)) for i in range(n))*h    \n",
    "    return res"
   ]
  },
  {
   "cell_type": "code",
   "execution_count": 79,
   "metadata": {},
   "outputs": [
    {
     "name": "stdout",
     "output_type": "stream",
     "text": [
      "0.45988929071851814\n",
      "17.578749999999996\n",
      "1.7175660864611277\n"
     ]
    }
   ],
   "source": [
    "print(riemann(0,1,math.sin,10))\n",
    "print(riemann(0,1,f1,10))\n",
    "print(riemann(0,1,math.exp,10))"
   ]
  },
  {
   "cell_type": "code",
   "execution_count": 80,
   "metadata": {},
   "outputs": [
    {
     "data": {
      "text/plain": [
       "0.5057575799637313"
      ]
     },
     "execution_count": 80,
     "metadata": {},
     "output_type": "execute_result"
    }
   ],
   "source": [
    "riemann(0,math.pi/4,cos2x,3)"
   ]
  },
  {
   "cell_type": "markdown",
   "metadata": {},
   "source": [
    "### [Trapezoidal rule](https://en.wikipedia.org/wiki/Trapezoidal_rule) (метод трапецій)"
   ]
  },
  {
   "cell_type": "code",
   "execution_count": 81,
   "metadata": {},
   "outputs": [],
   "source": [
    "def trapezoidal(a,b,f,n):\n",
    "    \"\"\"\n",
    "    Arguments:\n",
    "    ----------\n",
    "    a,b -- bounds of a segment\n",
    "    f -- function\n",
    "    n -- number of segments, has to be even\n",
    "    Returns:\n",
    "    --------\n",
    "    res -- integral value on a certain segment\n",
    "    \"\"\"\n",
    "    \n",
    "    if n%2!=0: \n",
    "        return \"n must be even\"\n",
    "    h,res = (b-a)/n,0\n",
    "    \n",
    "    X = [a+j*h for j in range(n)] #x0=a\n",
    "    \n",
    "    res += f(a)*(X[1]-a)*0.5\n",
    "    res += sum(f(X[i])*(X[i+1]-X[i-1])*0.5 for i in range(1,n-1))\n",
    "    res += f(b)*(b-X[n-1])*0.5\n",
    "    \n",
    "    return res"
   ]
  },
  {
   "cell_type": "code",
   "execution_count": 100,
   "metadata": {},
   "outputs": [
    {
     "name": "stdout",
     "output_type": "stream",
     "text": [
      "0.380981857895228\n",
      "15.912085262345677\n",
      "1.5108644216412084\n"
     ]
    }
   ],
   "source": [
    "print(trapezoidal(0,1,math.sin,10))\n",
    "print(trapezoidal(0,1,f1,12))\n",
    "print(trapezoidal(0,1,math.exp,12))"
   ]
  },
  {
   "cell_type": "code",
   "execution_count": 98,
   "metadata": {},
   "outputs": [
    {
     "data": {
      "text/plain": [
       "0.49986635413811764"
      ]
     },
     "execution_count": 98,
     "metadata": {},
     "output_type": "execute_result"
    }
   ],
   "source": [
    "trapezoidal(0,math.pi/4,cos2x,100)"
   ]
  },
  {
   "cell_type": "markdown",
   "metadata": {},
   "source": [
    "### [Simpson's rule](https://en.wikipedia.org/wiki/Simpson%27s_rule) - quadratic interpolation"
   ]
  },
  {
   "cell_type": "code",
   "execution_count": 84,
   "metadata": {},
   "outputs": [],
   "source": [
    "def simpson(a,b,f): \n",
    "    \"\"\"\n",
    "    Arguments:\n",
    "    ----------\n",
    "    a,b -- bounds of a segment\n",
    "    f -- function\n",
    "    Returns:\n",
    "    --------\n",
    "    integral value at on a certain segment\n",
    "    \"\"\"\n",
    "    \n",
    "    return (b-a)*(f(a)+4*f((a+b)*0.5)+f(b))/6"
   ]
  },
  {
   "cell_type": "code",
   "execution_count": 85,
   "metadata": {},
   "outputs": [
    {
     "name": "stdout",
     "output_type": "stream",
     "text": [
      "0.4598621898707848\n",
      "17.583333333333332\n",
      "1.7188611518765928\n"
     ]
    }
   ],
   "source": [
    "print(simpson(0,1,math.sin))\n",
    "print(simpson(0,1,f1))\n",
    "print(simpson(0,1,math.exp))"
   ]
  },
  {
   "cell_type": "code",
   "execution_count": 86,
   "metadata": {},
   "outputs": [
    {
     "data": {
      "text/plain": [
       "0.5011399387461052"
      ]
     },
     "execution_count": 86,
     "metadata": {},
     "output_type": "execute_result"
    }
   ],
   "source": [
    "simpson(0,math.pi/4,cos2x)"
   ]
  },
  {
   "cell_type": "markdown",
   "metadata": {},
   "source": [
    "### [Monte-Carlo method](https://ru.wikipedia.org/wiki/%D0%9C%D0%B5%D1%82%D0%BE%D0%B4_%D0%9C%D0%BE%D0%BD%D1%82%D0%B5-%D0%9A%D0%B0%D1%80%D0%BB%D0%BE#%D0%98%D0%BD%D1%82%D0%B5%D0%B3%D1%80%D0%B8%D1%80%D0%BE%D0%B2%D0%B0%D0%BD%D0%B8%D0%B5_%D0%BC%D0%B5%D1%82%D0%BE%D0%B4%D0%BE%D0%BC_%D0%9C%D0%BE%D0%BD%D1%82%D0%B5-%D0%9A%D0%B0%D1%80%D0%BB%D0%BE) using expected value"
   ]
  },
  {
   "cell_type": "code",
   "execution_count": 87,
   "metadata": {},
   "outputs": [
    {
     "name": "stdout",
     "output_type": "stream",
     "text": [
      "[0.0, 0.5, 1.0, 1.5, 2.0, 2.5, 3.0, 3.5, 4.0, 4.5] 10\n"
     ]
    }
   ],
   "source": [
    "#splitting segment into N points\n",
    "a,b,n=0,5,10\n",
    "x = [a + ((b-a)/(n))*i for i in range(n)]\n",
    "print(x,len(x))"
   ]
  },
  {
   "cell_type": "code",
   "execution_count": 88,
   "metadata": {},
   "outputs": [],
   "source": [
    "def monteCarlo(a,b,f,n):\n",
    "    \"\"\"\n",
    "    Arguments:\n",
    "    ----------\n",
    "    a,b -- bounds of a segment\n",
    "    f -- function\n",
    "    n -- number of segments\n",
    "    Returns:\n",
    "    --------\n",
    "    res -- integral value on a certain segment\n",
    "    \"\"\"\n",
    "    \n",
    "    X = [a + ((b-a)/n)*i for i in range(n)]\n",
    "    return (b-a)*sum(f(p) for p in X)/n"
   ]
  },
  {
   "cell_type": "code",
   "execution_count": 89,
   "metadata": {},
   "outputs": [
    {
     "name": "stdout",
     "output_type": "stream",
     "text": [
      "0.4554865083873183\n",
      "17.460625\n",
      "1.7154196164130118\n"
     ]
    }
   ],
   "source": [
    "print(monteCarlo(0,1,math.sin,100))\n",
    "print(monteCarlo(0,1,f1,20))\n",
    "print(monteCarlo(0,1,math.exp,300))"
   ]
  },
  {
   "cell_type": "code",
   "execution_count": 90,
   "metadata": {},
   "outputs": [
    {
     "data": {
      "text/plain": [
       "0.503916709936791"
      ]
     },
     "execution_count": 90,
     "metadata": {},
     "output_type": "execute_result"
    }
   ],
   "source": [
    "monteCarlo(0,math.pi/4,cos2x,100)"
   ]
  }
 ],
 "metadata": {
  "kernelspec": {
   "display_name": "Python 3",
   "language": "python",
   "name": "python3"
  },
  "language_info": {
   "codemirror_mode": {
    "name": "ipython",
    "version": 3
   },
   "file_extension": ".py",
   "mimetype": "text/x-python",
   "name": "python",
   "nbconvert_exporter": "python",
   "pygments_lexer": "ipython3",
   "version": "3.7.1"
  }
 },
 "nbformat": 4,
 "nbformat_minor": 2
}
