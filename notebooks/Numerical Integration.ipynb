{
 "cells": [
  {
   "cell_type": "code",
   "execution_count": 1,
   "metadata": {},
   "outputs": [],
   "source": [
    "import math\n",
    "def f1(x):\n",
    "    return x**3+4*x**2+16\n",
    "def cos2x(x):\n",
    "    return math.cos(2*x)"
   ]
  },
  {
   "cell_type": "markdown",
   "metadata": {},
   "source": [
    "## Numerical integration"
   ]
  },
  {
   "cell_type": "markdown",
   "metadata": {},
   "source": [
    "### [Riemann sum](https://en.wikipedia.org/wiki/Riemann_sum) (метод прямокутників)"
   ]
  },
  {
   "cell_type": "code",
   "execution_count": 2,
   "metadata": {},
   "outputs": [],
   "source": [
    "def riemannLoss(a,b,m,n,h=None):\n",
    "    if not h:\n",
    "        h = (b-a)/n\n",
    "    return m*h**2*(b-a)/24\n",
    "def riemann(a,b,f,n):\n",
    "    \"\"\"\n",
    "    Arguments:\n",
    "    ----------\n",
    "    a,b -- bounds of a segment\n",
    "    f -- input function\n",
    "    n -- number of segments\n",
    "    Returns:\n",
    "    --------\n",
    "    res -- integral value on a certain segment\n",
    "    \"\"\"\n",
    "    h = (b-a)/n\n",
    "    res = sum(f(a+h*(i+0.5)) for i in range(n))*h    \n",
    "    return res"
   ]
  },
  {
   "cell_type": "code",
   "execution_count": 3,
   "metadata": {},
   "outputs": [
    {
     "name": "stdout",
     "output_type": "stream",
     "text": [
      "0.45988929071851814\n",
      "17.578749999999996\n",
      "1.7175660864611277\n",
      "0.7073685564123139\n",
      "0.5057575799637313\n"
     ]
    }
   ],
   "source": [
    "print(riemann(0,1,math.sin,10))\n",
    "print(riemann(0,1,f1,10))\n",
    "print(riemann(0,1,math.exp,10))\n",
    "print(riemann(0,3*math.pi/4,math.cos,25))\n",
    "print(riemann(0,math.pi/4,cos2x,3))"
   ]
  },
  {
   "cell_type": "markdown",
   "metadata": {},
   "source": [
    "### [Trapezoidal rule](https://en.wikipedia.org/wiki/Trapezoidal_rule) (метод трапецій)"
   ]
  },
  {
   "cell_type": "code",
   "execution_count": 4,
   "metadata": {},
   "outputs": [],
   "source": [
    "def trapezoidalLoss(a,b,m,n,h=None):\n",
    "    if not h:\n",
    "        h = (a-b)/n\n",
    "    return m * h**4*(b-a)/12\n",
    "def trapezoidal(a,b,f,n):\n",
    "    \"\"\"\n",
    "    Arguments:\n",
    "    ----------\n",
    "    a,b -- bounds of a segment\n",
    "    f -- function\n",
    "    n -- number of segments, has to be even\n",
    "    Returns:\n",
    "    --------\n",
    "    res -- integral value on a certain segment\n",
    "    \"\"\"\n",
    "    \n",
    "    if n%2!=0: \n",
    "        return \"n must be even\"\n",
    "    h,res = (b-a)/n,0\n",
    "    \n",
    "    X = [a+j*h for j in range(n)] #x0=a\n",
    "    \n",
    "    res += f(a)*(X[1]-a)*0.5\n",
    "    res += sum(f(X[i])*(X[i+1]-X[i-1])*0.5 for i in range(1,n-1))\n",
    "    res += f(b)*(b-X[n-1])*0.5\n",
    "    \n",
    "    return res"
   ]
  },
  {
   "cell_type": "code",
   "execution_count": 5,
   "metadata": {},
   "outputs": [],
   "source": [
    "a,b,n = 0,1,3\n",
    "h = (b-a)/n\n",
    "X = [a + j*h for j in range(n+1)]\n",
    "Y = [math.cos(X[i])+math.cos(X[i+1]) for i in range(n) ]"
   ]
  },
  {
   "cell_type": "code",
   "execution_count": 6,
   "metadata": {},
   "outputs": [],
   "source": [
    "def trapezodialLoss(a,b,f,m,n,h=None):\n",
    "    if not h:\n",
    "        h = (b-a)/n\n",
    "    return m * h**4*(b-a)/12\n",
    "def trapezodial2(a,b,f,n,m=None):\n",
    "    \"\"\"\n",
    "    Arguments:\n",
    "    ----------\n",
    "    a,b -- bounds of a segment\n",
    "    f -- function\n",
    "    n -- number of segments, has to be even\n",
    "    m -- max(f''(x)) on [a;b]\n",
    "    Returns:\n",
    "    res -- integral value on a segment\n",
    "    loss -- error rate\n",
    "    \"\"\"\n",
    "    \n",
    "    h = (b-a)/n    \n",
    "    X = [a+j*h for j in range(n+1)]\n",
    "    res = sum(f(X[i])+f(X[i+1]) for i in range(n))*0.5*h\n",
    "    if m:\n",
    "        return res, trapezodialLoss(a,b,f,m,n,h)\n",
    "    else:\n",
    "        return res"
   ]
  },
  {
   "cell_type": "code",
   "execution_count": 7,
   "metadata": {},
   "outputs": [
    {
     "data": {
      "text/plain": [
       "0.45931454885797635"
      ]
     },
     "execution_count": 7,
     "metadata": {},
     "output_type": "execute_result"
    }
   ],
   "source": [
    "trapezodial2(0,1,math.sin,10,)"
   ]
  },
  {
   "cell_type": "code",
   "execution_count": 8,
   "metadata": {},
   "outputs": [
    {
     "data": {
      "text/plain": [
       "(0.7038324076935244, 0.0014258885134204036)"
      ]
     },
     "execution_count": 8,
     "metadata": {},
     "output_type": "execute_result"
    }
   ],
   "source": [
    "trapezodial2(0,3*math.pi/4,math.cos,10,3*math.pi/4)"
   ]
  },
  {
   "cell_type": "code",
   "execution_count": 9,
   "metadata": {},
   "outputs": [
    {
     "name": "stdout",
     "output_type": "stream",
     "text": [
      "0.380981857895228\n",
      "15.912085262345677\n",
      "1.5108644216412084\n"
     ]
    }
   ],
   "source": [
    "print(trapezoidal(0,1,math.sin,10))\n",
    "print(trapezoidal(0,1,f1,12))\n",
    "print(trapezoidal(0,1,math.exp,12))"
   ]
  },
  {
   "cell_type": "code",
   "execution_count": 10,
   "metadata": {},
   "outputs": [
    {
     "data": {
      "text/plain": [
       "0.723337729148807"
      ]
     },
     "execution_count": 10,
     "metadata": {},
     "output_type": "execute_result"
    }
   ],
   "source": [
    "trapezoidal(0,3*math.pi/4,math.cos,100)"
   ]
  },
  {
   "cell_type": "code",
   "execution_count": 11,
   "metadata": {},
   "outputs": [
    {
     "name": "stdout",
     "output_type": "stream",
     "text": [
      "0.0014258885134204036\n"
     ]
    },
    {
     "data": {
      "text/plain": [
       "0.49986635413811764"
      ]
     },
     "execution_count": 11,
     "metadata": {},
     "output_type": "execute_result"
    }
   ],
   "source": [
    "print(trapezoidalLoss(0,3*math.pi/4,3*math.pi/4,10))\n",
    "trapezoidal(0,math.pi/4,cos2x,100)"
   ]
  },
  {
   "cell_type": "markdown",
   "metadata": {},
   "source": [
    "### [Simpson's rule](https://en.wikipedia.org/wiki/Simpson%27s_rule) - quadratic interpolation"
   ]
  },
  {
   "cell_type": "code",
   "execution_count": 12,
   "metadata": {},
   "outputs": [],
   "source": [
    "def simpsonLoss(a,b,m,n, h=None):\n",
    "    if not h:\n",
    "        h = (b-a)/n\n",
    "    return m*h**4*(b-a)/2880\n",
    "def simpson(a,b,f): \n",
    "    \"\"\"\n",
    "    Arguments:\n",
    "    ----------\n",
    "    a,b -- bounds of a segment\n",
    "    f -- function\n",
    "    Returns:\n",
    "    --------\n",
    "    integral value at on a certain segment\n",
    "    \"\"\"\n",
    "    \n",
    "    return (b-a)*(f(a)+4*f((a+b)*0.5)+f(b))/6"
   ]
  },
  {
   "cell_type": "code",
   "execution_count": 13,
   "metadata": {},
   "outputs": [
    {
     "name": "stdout",
     "output_type": "stream",
     "text": [
      "0.4598621898707848\n",
      "17.583333333333332\n",
      "1.7188611518765928\n"
     ]
    }
   ],
   "source": [
    "print(simpson(0,1,math.sin))\n",
    "print(simpson(0,1,f1))\n",
    "print(simpson(0,1,math.exp))"
   ]
  },
  {
   "cell_type": "code",
   "execution_count": 14,
   "metadata": {},
   "outputs": [
    {
     "data": {
      "text/plain": [
       "0.5011399387461052"
      ]
     },
     "execution_count": 14,
     "metadata": {},
     "output_type": "execute_result"
    }
   ],
   "source": [
    "simpson(0,math.pi/4,cos2x)"
   ]
  },
  {
   "cell_type": "code",
   "execution_count": 15,
   "metadata": {},
   "outputs": [
    {
     "data": {
      "text/plain": [
       "0.7161366279481727"
      ]
     },
     "execution_count": 15,
     "metadata": {},
     "output_type": "execute_result"
    }
   ],
   "source": [
    "simpson(0,3*math.pi/4,math.cos)"
   ]
  },
  {
   "cell_type": "code",
   "execution_count": 43,
   "metadata": {},
   "outputs": [],
   "source": [
    "class NumericalIntegration:\n",
    "    \n",
    "    def loss(self,a,b,m,n,param,h=None):\n",
    "        \"\"\"\n",
    "        Arguments:\n",
    "        a,b -- bonds of a segment\n",
    "        m -- max(abs(f(n)(x))), x[a;b], f(n) - n-th derivative over x\n",
    "        n -- number of segments\n",
    "        param -- specifies loss\n",
    "        h -- interval between consecutive subsegments\n",
    "        \"\"\"\n",
    "        \n",
    "        if not h:\n",
    "            h = (b-a)/n\n",
    "        if param == \"riemann\":\n",
    "            return h**2*m*(b-a)/24\n",
    "        elif param == \"trapezoidal\":\n",
    "            return h**2 * m *(b-a)/12\n",
    "        else: #simpson\n",
    "            return h**4*m*(b-a)/2880\n",
    "    \n",
    "    def riemann(self,a,b,f,n,m=None):\n",
    "        \"\"\"\n",
    "        Arguments:\n",
    "         a,b -- bounds of a segment\n",
    "         f -- input function\n",
    "         n -- number of segments\n",
    "        Returns:\n",
    "         res -- integral value on a certain segment\n",
    "        \"\"\"\n",
    "        h = (b-a)/n\n",
    "        res = sum(f(a+h*(i+0.5)) for i in range(n))*h    \n",
    "\n",
    "        if m is not None:\n",
    "            return res, self.loss(a,b,m,n,\"riemann\",h)\n",
    "        return res\n",
    "    \n",
    "    \n",
    "    def trapezoidal(self,a,b,f,n,m=None):\n",
    "        \"\"\"\n",
    "        Arguments:\n",
    "        ----------\n",
    "        a,b -- bounds of a segment\n",
    "        f -- function\n",
    "        n -- number of segments, has to be even\n",
    "        m -- max(f''(x)) on [a;b]\n",
    "        Returns:\n",
    "        res -- integral value on a segment\n",
    "        loss -- error rate\n",
    "        \"\"\"\n",
    "\n",
    "        h = (b-a)/n    \n",
    "        X = [a+j*h for j in range(n+1)]\n",
    "        res = sum(f(X[i])+f(X[i+1]) for i in range(n))*0.5*h\n",
    "        if m is not None:\n",
    "            return res, self.loss(a,b,m,n,\"trapezoidal\",h)\n",
    "        return res  \n",
    "    \n",
    "    \n",
    "    def simpson(self,a,b,f,n,m=None): \n",
    "        \"\"\"\n",
    "        Arguments:\n",
    "        ----------\n",
    "        a,b -- bounds of a segment\n",
    "        f -- function\n",
    "        Returns:\n",
    "        --------\n",
    "        integral value at on a certain segment\n",
    "        \"\"\"\n",
    "        h = (b-a)/n\n",
    "        res = h/6 * sum(f(a+h*i) + 4*f(a+h*(i+0.5)) + f(a+h*(i+1)) for i in range(n))  \n",
    "        if m:\n",
    "            return res, self.loss(a,b,m,n,\"simpson\",h)\n",
    "        return res\n"
   ]
  },
  {
   "cell_type": "code",
   "execution_count": 44,
   "metadata": {},
   "outputs": [
    {
     "name": "stdout",
     "output_type": "stream",
     "text": [
      "(0.5005144120713542, 0.0008074551218828077)\n",
      "(0.4989714931771786, 0.0016149102437656153)\n",
      "(0.5000001057732957, 1.6602630467951466e-07)\n"
     ]
    }
   ],
   "source": [
    "n = NumericalIntegration()\n",
    "print(n.riemann(0,math.pi/4,cos2x,10,4))\n",
    "print(n.trapezoidal(0,math.pi/4,cos2x,10,4))\n",
    "print(n.simpson(0,math.pi/4,cos2x,10,16))"
   ]
  },
  {
   "cell_type": "markdown",
   "metadata": {},
   "source": [
    "### [Monte-Carlo method](https://ru.wikipedia.org/wiki/%D0%9C%D0%B5%D1%82%D0%BE%D0%B4_%D0%9C%D0%BE%D0%BD%D1%82%D0%B5-%D0%9A%D0%B0%D1%80%D0%BB%D0%BE#%D0%98%D0%BD%D1%82%D0%B5%D0%B3%D1%80%D0%B8%D1%80%D0%BE%D0%B2%D0%B0%D0%BD%D0%B8%D0%B5_%D0%BC%D0%B5%D1%82%D0%BE%D0%B4%D0%BE%D0%BC_%D0%9C%D0%BE%D0%BD%D1%82%D0%B5-%D0%9A%D0%B0%D1%80%D0%BB%D0%BE) using expected value"
   ]
  },
  {
   "cell_type": "code",
   "execution_count": 18,
   "metadata": {},
   "outputs": [
    {
     "name": "stdout",
     "output_type": "stream",
     "text": [
      "[0.0, 0.5, 1.0, 1.5, 2.0, 2.5, 3.0, 3.5, 4.0, 4.5] 10\n"
     ]
    }
   ],
   "source": [
    "#splitting segment into N points\n",
    "a,b,n=0,5,10\n",
    "x = [a + ((b-a)/(n))*i for i in range(n)]\n",
    "print(x,len(x))"
   ]
  },
  {
   "cell_type": "code",
   "execution_count": 19,
   "metadata": {},
   "outputs": [],
   "source": [
    "def monteCarlo(a,b,f,n):\n",
    "    \"\"\"\n",
    "    Arguments:\n",
    "    ----------\n",
    "    a,b -- bounds of a segment\n",
    "    f -- function\n",
    "    n -- number of segments\n",
    "    Returns:\n",
    "    --------\n",
    "    res -- integral value on a certain segment\n",
    "    \"\"\"\n",
    "    \n",
    "    X = [a + ((b-a)/n)*i for i in range(n)]\n",
    "    return (b-a)*sum(f(p) for p in X)/n"
   ]
  },
  {
   "cell_type": "code",
   "execution_count": 20,
   "metadata": {},
   "outputs": [
    {
     "name": "stdout",
     "output_type": "stream",
     "text": [
      "0.4554865083873183\n",
      "17.460625\n",
      "1.7154196164130118\n"
     ]
    }
   ],
   "source": [
    "print(monteCarlo(0,1,math.sin,100))\n",
    "print(monteCarlo(0,1,f1,20))\n",
    "print(monteCarlo(0,1,math.exp,300))"
   ]
  },
  {
   "cell_type": "code",
   "execution_count": 21,
   "metadata": {},
   "outputs": [
    {
     "data": {
      "text/plain": [
       "0.503916709936791"
      ]
     },
     "execution_count": 21,
     "metadata": {},
     "output_type": "execute_result"
    }
   ],
   "source": [
    "monteCarlo(0,math.pi/4,cos2x,100)"
   ]
  }
 ],
 "metadata": {
  "kernelspec": {
   "display_name": "Python 3",
   "language": "python",
   "name": "python3"
  },
  "language_info": {
   "codemirror_mode": {
    "name": "ipython",
    "version": 3
   },
   "file_extension": ".py",
   "mimetype": "text/x-python",
   "name": "python",
   "nbconvert_exporter": "python",
   "pygments_lexer": "ipython3",
   "version": "3.7.1"
  }
 },
 "nbformat": 4,
 "nbformat_minor": 2
}
