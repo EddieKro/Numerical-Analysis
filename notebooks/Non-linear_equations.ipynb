{
 "cells": [
  {
   "cell_type": "code",
   "execution_count": 1,
   "metadata": {},
   "outputs": [],
   "source": [
    "import math\n",
    "import sympy\n",
    "import numpy as np"
   ]
  },
  {
   "cell_type": "code",
   "execution_count": 2,
   "metadata": {},
   "outputs": [],
   "source": [
    "#for primitive functions use sympy (i.e., sympy.cos() for cos())\n",
    "def func(x):\n",
    "    return x+sympy.sin(x)-1\n",
    "def function2(x):\n",
    "    return (x+18)**(0.5)+1-x\n",
    "def function2_der(x):\n",
    "    return 0.5*(x+18)**(-0.5)-1\n",
    "def testfunc(x):\n",
    "    return x**3-3*x**2-1-x\n",
    "def testfunc_der(x):\n",
    "    return 3*x**2-6*x-1"
   ]
  },
  {
   "cell_type": "markdown",
   "metadata": {},
   "source": [
    "## [Fixed-point iteration method](https://en.wikipedia.org/wiki/Fixed-point_iteration)\n"
   ]
  },
  {
   "cell_type": "code",
   "execution_count": 3,
   "metadata": {
    "scrolled": true
   },
   "outputs": [],
   "source": [
    "def fpi(function,eps,x0):\n",
    "    \"\"\"\n",
    "     Arguments:\n",
    "        function -- equation,defined above\n",
    "        eps -- const to satisfy: abs(f(c)-f(a))>=eps\n",
    "        x0 -- starting x0\n",
    "        Output:\n",
    "        c -- equation root\n",
    "        n -- number of iterations\n",
    "    \"\"\"\n",
    "    n,x=0,x0,\n",
    "    x1 = function(x)\n",
    "    while(abs(x-x1)>=eps):\n",
    "        n+=1\n",
    "        x = x1\n",
    "        x1 = function(x)\n",
    "\n",
    "        if n%100==0:\n",
    "            print(n)\n",
    "    return x,n   "
   ]
  },
  {
   "cell_type": "code",
   "execution_count": 4,
   "metadata": {
    "scrolled": false
   },
   "outputs": [
    {
     "data": {
      "text/plain": [
       "(2.7791609465066296, 94)"
      ]
     },
     "execution_count": 4,
     "metadata": {},
     "output_type": "execute_result"
    }
   ],
   "source": [
    "fpi(function2,0.0001,0)"
   ]
  },
  {
   "cell_type": "markdown",
   "metadata": {},
   "source": [
    "## [Bisection method](https://en.wikipedia.org/wiki/Bisection_method)"
   ]
  },
  {
   "cell_type": "code",
   "execution_count": 5,
   "metadata": {},
   "outputs": [],
   "source": [
    "def bisection(function, a,b, eps):\n",
    "    \"\"\"\n",
    "        Arguments:\n",
    "        function -- equation, defined above\n",
    "        a,b  -- bounds\n",
    "        eps -- precision\n",
    "        Output:\n",
    "        c -- equation root\n",
    "        n -- number of iterations\n",
    "        \n",
    "    \"\"\"\n",
    "    def iterate():\n",
    "        \"\"\"\n",
    "        Output:\n",
    "        c -- new center of a section \n",
    "        y -- function value at new c\n",
    "        \"\"\"\n",
    "        c = (a+b)/2.0\n",
    "        y = function(c)\n",
    "        return c,y\n",
    "    c,y = iterate()\n",
    "    n = 0\n",
    "    while (y!=0 and abs(function(c)-function(a))>=eps):\n",
    "        if (np.sign(y))==np.sign(function(a)):\n",
    "            a=c\n",
    "        else:\n",
    "            b=c\n",
    "        c,y = iterate()\n",
    "        n+=1\n",
    "        if n%100==0:\n",
    "            print(n)\n",
    "    return c,n"
   ]
  },
  {
   "cell_type": "code",
   "execution_count": 6,
   "metadata": {},
   "outputs": [
    {
     "data": {
      "text/plain": [
       "(5.88751220703125, 13)"
      ]
     },
     "execution_count": 6,
     "metadata": {},
     "output_type": "execute_result"
    }
   ],
   "source": [
    "bisection(function2,5,6,0.0001)"
   ]
  },
  {
   "cell_type": "markdown",
   "metadata": {},
   "source": [
    "## [Newton's method](https://en.wikipedia.org/wiki/Newton%27s_method)"
   ]
  },
  {
   "cell_type": "code",
   "execution_count": 7,
   "metadata": {},
   "outputs": [],
   "source": [
    "def newton_nosympy(function, derivative, x0, eps):\n",
    "    \"\"\"\n",
    "    Arguments:\n",
    "    ---------\n",
    "    function - given equation\n",
    "    derivative - derivative of function of given equation\n",
    "    x0 - initial guess\n",
    "    eps - precision\n",
    "    \"\"\"\n",
    "    x1,x0,n = x0,function(x0),0\n",
    "    while (abs(x1-x0)>=eps):\n",
    "        x1,x0 = x1-function(x1)/derivative(x1),x1\n",
    "        n += 1\n",
    "        if n%1000==0:\n",
    "            return \"failure\"\n",
    "    return x1,n"
   ]
  },
  {
   "cell_type": "code",
   "execution_count": 8,
   "metadata": {},
   "outputs": [
    {
     "data": {
      "text/plain": [
       "(2.752946633818705, 5)"
      ]
     },
     "execution_count": 8,
     "metadata": {},
     "output_type": "execute_result"
    }
   ],
   "source": [
    "def testfunc(x):\n",
    "    return x**2-20*math.sin(x)\n",
    "def testfunc_deriv(x):\n",
    "    return 2*x-20*math.cos(x)\n",
    "newton_nosympy(testfunc,testfunc_deriv,2,0.000001)"
   ]
  }
 ],
 "metadata": {
  "kernelspec": {
   "display_name": "Python [default]",
   "language": "python",
   "name": "python3"
  },
  "language_info": {
   "codemirror_mode": {
    "name": "ipython",
    "version": 3
   },
   "file_extension": ".py",
   "mimetype": "text/x-python",
   "name": "python",
   "nbconvert_exporter": "python",
   "pygments_lexer": "ipython3",
   "version": "3.6.5"
  }
 },
 "nbformat": 4,
 "nbformat_minor": 2
}
