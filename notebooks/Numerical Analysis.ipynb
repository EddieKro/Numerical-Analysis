{
 "cells": [
  {
   "cell_type": "code",
   "execution_count": 1,
   "metadata": {},
   "outputs": [],
   "source": [
    "import math\n",
    "import numpy as np\n",
    "import sympy\n",
    "\n",
    "#for primitive functions use sympy (i.e., sympy.cos() for cos())\n",
    "def func(x):\n",
    "    return x+sympy.sin(x)-1\n",
    "def function2(x):\n",
    "    return (x+18)**(0.5)+1-x\n",
    "def function2_der(x):\n",
    "    return 0.5*(x+18)**(-0.5)-1\n",
    "def testfunc(x):\n",
    "    return x**3-3*x**2-1-x\n",
    "def testfunc_der(x):\n",
    "    return 3*x**2-6*x-1"
   ]
  },
  {
   "cell_type": "markdown",
   "metadata": {},
   "source": [
    "## [Fixed-point iteration method](https://en.wikipedia.org/wiki/Fixed-point_iteration)\n"
   ]
  },
  {
   "cell_type": "code",
   "execution_count": 2,
   "metadata": {
    "scrolled": true
   },
   "outputs": [],
   "source": [
    "def fpi(function,eps,x0):\n",
    "    \"\"\"\n",
    "     Arguments:\n",
    "        function -- equation,defined above\n",
    "        eps -- const to satisfy: abs(f(c)-f(a))>=eps\n",
    "        x0 -- starting x0\n",
    "        Output:\n",
    "        c -- equation root\n",
    "        n -- number of iterations\n",
    "    \"\"\"\n",
    "    n,x=0,x0,\n",
    "    x1 = function(x)\n",
    "    while(abs(x-x1)>=eps):\n",
    "        n+=1\n",
    "        x = x1\n",
    "        x1 = function(x)\n",
    "\n",
    "        if n%100==0:\n",
    "            print(n)\n",
    "    return x,n   "
   ]
  },
  {
   "cell_type": "code",
   "execution_count": 3,
   "metadata": {
    "scrolled": false
   },
   "outputs": [
    {
     "data": {
      "text/plain": [
       "(2.7791609465066296, 94)"
      ]
     },
     "execution_count": 3,
     "metadata": {},
     "output_type": "execute_result"
    }
   ],
   "source": [
    "fpi(function2,0.0001,0)"
   ]
  },
  {
   "cell_type": "markdown",
   "metadata": {},
   "source": [
    "## [Bisection method](https://en.wikipedia.org/wiki/Bisection_method)"
   ]
  },
  {
   "cell_type": "code",
   "execution_count": 5,
   "metadata": {},
   "outputs": [],
   "source": [
    "def bisection(function, a,b, eps):\n",
    "    \"\"\"\n",
    "        Arguments:\n",
    "        function -- equation, defined above\n",
    "        a,b  -- bounds\n",
    "        eps -- precision\n",
    "        Output:\n",
    "        c -- equation root\n",
    "        n -- number of iterations\n",
    "        \n",
    "    \"\"\"\n",
    "    def iterate():\n",
    "        \"\"\"\n",
    "        Output:\n",
    "        c -- new center of a section \n",
    "        y -- function value at new c\n",
    "        \"\"\"\n",
    "        c = (a+b)/2.0\n",
    "        y = function(c)\n",
    "        return c,y\n",
    "    c,y = iterate()\n",
    "    n = 0\n",
    "    while (y!=0 and abs(function(c)-function(a))>=eps):\n",
    "        if (np.sign(y))==np.sign(function(a)):\n",
    "            a=c\n",
    "        else:\n",
    "            b=c\n",
    "        c,y = iterate()\n",
    "        n+=1\n",
    "        if n%100==0:\n",
    "            print(n)\n",
    "    return c,n"
   ]
  },
  {
   "cell_type": "code",
   "execution_count": 6,
   "metadata": {},
   "outputs": [
    {
     "data": {
      "text/plain": [
       "(5.88751220703125, 13)"
      ]
     },
     "execution_count": 6,
     "metadata": {},
     "output_type": "execute_result"
    }
   ],
   "source": [
    "bisection(function2,5,6,0.0001)"
   ]
  },
  {
   "cell_type": "markdown",
   "metadata": {},
   "source": [
    "## [Newton's method](https://en.wikipedia.org/wiki/Newton%27s_method)"
   ]
  },
  {
   "cell_type": "code",
   "execution_count": 7,
   "metadata": {},
   "outputs": [],
   "source": [
    "def newton_nosympy(function, derivative, x0, eps):\n",
    "    \"\"\"\n",
    "    Arguments:\n",
    "    ---------\n",
    "    function - given equation\n",
    "    derivative - derivative of function of given equation\n",
    "    x0 - initial guess\n",
    "    eps - precision\n",
    "    \"\"\"\n",
    "    x1,x0,n = x0,function(x0),0\n",
    "    while (abs(x1-x0)>=eps):\n",
    "        x1,x0 = x1-function(x1)/derivative(x1),x1\n",
    "        n += 1\n",
    "        if n%1000==0:\n",
    "            return \"failure\"\n",
    "    return x1,n"
   ]
  },
  {
   "cell_type": "code",
   "execution_count": 8,
   "metadata": {},
   "outputs": [
    {
     "data": {
      "text/plain": [
       "(2.752946633818705, 5)"
      ]
     },
     "execution_count": 8,
     "metadata": {},
     "output_type": "execute_result"
    }
   ],
   "source": [
    "def testfunc(x):\n",
    "    return x**2-20*math.sin(x)\n",
    "def testfunc_deriv(x):\n",
    "    return 2*x-20*math.cos(x)\n",
    "newton_nosympy(testfunc,testfunc_deriv,2,0.000001)"
   ]
  },
  {
   "cell_type": "code",
   "execution_count": 9,
   "metadata": {},
   "outputs": [],
   "source": [
    "def newton(function, x0, eps):\n",
    "    \"\"\"\n",
    "    Arguments:\n",
    "    function -- given equation\n",
    "    x0 - initial guess\n",
    "    eps - precision\n",
    "    Output:\n",
    "    x -- root of the equation\n",
    "    n -- number of iterations\n",
    "    \"\"\"\n",
    "    n,x0,x1 = 0,x0,0\n",
    "    \n",
    "    x = sympy.Symbol('x')#variable\n",
    "    f = function(x)\n",
    "    \n",
    "    derivative = sympy.diff(f)\n",
    "    \n",
    "    print(derivative)\n",
    "    \n",
    "    x1-= float(f.subs({'x':x0}))/float(derivative.subs({'x':x0}))\n",
    "    while(abs(x1-x0)>=eps):\n",
    "        #x0=x1\n",
    "        x1=x0 - float(function(x0))/float(derivative.subs({'x':x0})) \n",
    "        x0=x1\n",
    "        n+=1\n",
    "        if n%10==0:\n",
    "            print(\"n: {0}, |x1-x0|={1}\".format(n,abs(x1-x0)))\n",
    "    return x1,n"
   ]
  },
  {
   "cell_type": "markdown",
   "metadata": {},
   "source": [
    "### [Gaussian elimination](https://en.wikipedia.org/wiki/Gaussian_elimination)"
   ]
  },
  {
   "cell_type": "code",
   "execution_count": 10,
   "metadata": {},
   "outputs": [],
   "source": [
    "def gaussian(A,b):\n",
    "    \"\"\"\n",
    "    Arguments:\n",
    "    A -- numpy.ndarray -- given system of coeffitients\n",
    "    x -- numpy.ndarray -- unknown vector X \n",
    "    b -- vector b\n",
    "    Output:\n",
    "    x -- root of the system of equations A*x=b\n",
    "    \"\"\"\n",
    "    n,matr = len(b),np.hstack([A,b.reshape(-1,1)])\n",
    "    if np.linalg.det(A)==0: \n",
    "        return -1\n",
    "    \n",
    "    #direct move\n",
    "    for i in range(n):\n",
    "        a = matr[i]\n",
    "        for j in range(i+1,n):\n",
    "            b = matr[j]\n",
    "            m = a[i]/b[i]\n",
    "            matr[j] = a - m*b\n",
    "            \n",
    "    #reversed move\n",
    "    for i in range(n-1,-1,-1):\n",
    "        matr[i]= matr[i]/matr[i,i]\n",
    "        a = matr[i]\n",
    "        for j in range(i-1,-1,-1):\n",
    "            b = matr[j]\n",
    "            m = a[i]/b[i]\n",
    "            matr[j] = a - m*b\n",
    "\n",
    "    return matr[:,3]"
   ]
  },
  {
   "cell_type": "code",
   "execution_count": 11,
   "metadata": {},
   "outputs": [
    {
     "name": "stdout",
     "output_type": "stream",
     "text": [
      "[ -4. -13.  11.]\n"
     ]
    }
   ],
   "source": [
    "A = np.array([[1, 2, 3], [3, 5, 7], [1, 3, 4]], dtype='float')\n",
    "b = np.array([3, 0, 1])\n",
    "print(gaussian(A,b))\n",
    "t1,t2 = gaussian(A,b),np.linalg.solve(A,b)\n",
    "t1 = np.round(t1,10)\n",
    "t2 = np.round(t2,10)\n",
    "np.testing.assert_array_equal(t1,t2)"
   ]
  },
  {
   "cell_type": "markdown",
   "metadata": {},
   "source": [
    "### [Cholesky decomposition](https://en.wikipedia.org/wiki/Cholesky_decomposition) a.k.a. Least Squares Method\n",
    "\n",
    "$Ax=b$<br>\n",
    "\n",
    "If A is symmetric & [positive-definite](https://en.wikipedia.org/wiki/Definiteness_of_a_matrix):<br>\n",
    "Let $A := L*L^T$<br>\n",
    "\n",
    "$L * y=b $ - forward substitution <br>\n",
    "$L^T*x=y $  - back substitution<br><br>\n",
    "\n",
    "LDLT decomposition:<br>\n",
    "\n",
    "Let $A:= L * D * L^T$<br>\n",
    "$L * y = b $<br>\n",
    "$DL* x = y $"
   ]
  },
  {
   "cell_type": "code",
   "execution_count": 12,
   "metadata": {},
   "outputs": [],
   "source": [
    "def ldl_decomposition(A):\n",
    "    L_cholesky = np.linalg.cholesky(A)\n",
    "    S = L_cholesky.diagonal()\n",
    "    D = S**2\n",
    "    S_inv = np.linalg.inv(np.diagflat(S))\n",
    "    L = np.dot(L_cholesky,S_inv)\n",
    "    return L,D\n",
    "def cholesky(A,b):\n",
    "    if np.array_equal(A,A.T):\n",
    "        try:\n",
    "            L = np.linalg.cholesky(A)\n",
    "            y = np.linalg.solve(L,b)\n",
    "            x = np.linalg.solve(L.T,y)\n",
    "        except np.linalg.LinAlgError:\n",
    "            return \"Unsutable matrix\"\n",
    "    return x"
   ]
  },
  {
   "cell_type": "code",
   "execution_count": 13,
   "metadata": {},
   "outputs": [
    {
     "data": {
      "text/plain": [
       "(array([[ 1.,  0.,  0.],\n",
       "        [ 3.,  1.,  0.],\n",
       "        [-4.,  5.,  1.]]), array([4., 1., 9.]))"
      ]
     },
     "execution_count": 13,
     "metadata": {},
     "output_type": "execute_result"
    }
   ],
   "source": [
    "T = np.array([[4,12,-16],[12,37,-43],[-16,-43,98]])\n",
    "A,b = np.array([[25,15,-5],[15,18,0],[-5,0,11]]),np.array([-2,0.25,10.2])\n",
    "cholesky(A,b)\n",
    "ldl_decomposition(T)"
   ]
  },
  {
   "cell_type": "markdown",
   "metadata": {},
   "source": [
    "### [Tridiagonal matrix algorithm](https://en.wikipedia.org/wiki/Tridiagonal_matrix_algorithm)"
   ]
  },
  {
   "cell_type": "code",
   "execution_count": 20,
   "metadata": {},
   "outputs": [],
   "source": [
    "def get_coeff_vect(array):\n",
    "    \"\"\"\n",
    "    Arguments:\n",
    "    ----------\n",
    "    array -- array of shape(n,n)\n",
    "    returns triagonals a,b,c\n",
    "    Output:\n",
    "    a,b,c -- tridiagonals of an array\n",
    "    \"\"\"\n",
    "    n = len(array)\n",
    "    ind1,ind2 = [i for i in range(1,n)],[i-1 for i in range(1,n)]\n",
    "    a = np.copy(array[ind1,ind2])\n",
    "    b = np.copy(array[[i for i in range(n)],[i for i in range(n)]])\n",
    "    c = np.copy(array[ind2,ind1])\n",
    "    return a,b,c\n",
    "\n",
    "\n",
    "def tridiagonal_matr_algo(arr,f,local_coeff=False,flag=False,a=None,b=None,c=None):\n",
    "    \"\"\"\n",
    "    Arguments:\n",
    "    ----------\n",
    "    arr -- array of shape(n,n)\n",
    "    f -- vector of shape(n,)\n",
    "    local_coeff -- bool, uses slighty different calculations\n",
    "    Output:\n",
    "    x -- solution of system of equations A*x = f\n",
    "    \"\"\"\n",
    "    n,f= len(arr),np.copy(f)  \n",
    "    if not flag:  \n",
    "        a,b,c = get_coeff_vect(arr)\n",
    "\n",
    "    \n",
    "    if local_coeff:\n",
    "        alpha,beta = [],[]\n",
    "        alpha.append(c[0]/b[0])\n",
    "        beta.append(f[0]/b[0])\n",
    "        \n",
    "        #forward step\n",
    "        for i in range(1,n):\n",
    "            if i!=n-1:\n",
    "                alpha.append(c[i]/(b[i]-alpha[-1]*a[i-1]))\n",
    "            beta.append((f[i]-beta[-1]*a[i-1])/(b[i]-alpha[-1]*a[i-1]))\n",
    "\n",
    "        \n",
    "        #backward step\n",
    "        x = beta\n",
    "        for i in reversed(range(n-1)):\n",
    "            x[i] = beta[i]-alpha[i]*x[i+1]\n",
    "        \n",
    "        return x\n",
    "    else: \n",
    "        # forward step\n",
    "        for i in range(1,n):\n",
    "            w = a[i-1]/b[i-1]\n",
    "            b[i] -= w*c[i-1]\n",
    "            f[i] -= w*f[i-1]\n",
    "        #backward step\n",
    "        x = b\n",
    "        x[-1] = f[-1]/b[-1]\n",
    "        for i in range(n-2,-1,-1):\n",
    "            x[i]=(f[i]-c[i]*x[i+1])/(b[i])\n",
    "        return x   "
   ]
  },
  {
   "cell_type": "code",
   "execution_count": 21,
   "metadata": {},
   "outputs": [
    {
     "data": {
      "text/plain": [
       "array([2.00000000e+00, 1.00000000e+00, 5.95450001e-17, 1.00000000e+00,\n",
       "       0.00000000e+00])"
      ]
     },
     "execution_count": 21,
     "metadata": {},
     "output_type": "execute_result"
    }
   ],
   "source": [
    "A,b = np.array([[4.610,1.700,0,0,0],[1.32,4.16,1.34,0,0],[0,1.62,4.32,1.08,0],[0,0,1.58,4.85,1.39],[0,0,0,1.71,4.31]],dtype=float),np.array([10.92,6.8,2.7,4.85,1.71])\n",
    "tridiagonal_matr_algo(A,b)"
   ]
  },
  {
   "cell_type": "code",
   "execution_count": 4,
   "metadata": {},
   "outputs": [
    {
     "data": {
      "text/plain": [
       "array([1., 2., 2., 0., 0.])"
      ]
     },
     "execution_count": 4,
     "metadata": {},
     "output_type": "execute_result"
    }
   ],
   "source": [
    "#A,d = np.array([[-4,1,0,0],[1,-4,-1,0],[0,1,-4,1],[0,0,1,-4]],dtype=float),np.array([-6,-4,-4,-6],dtype=float)\n",
    "A,b = np.array([[4.77,1.28,0,0,0],[1.78,4.12,1.66,0,0],[0,1.57,4.16,1.92,0],[0,0,1.08,4.72,1.38],[0,0,0,1.31,4.65]],dtype=float),np.array([7.33,13.34,11.46,2.16,0])\n",
    "tridiagonal_matr_algo(A,b)"
   ]
  },
  {
   "cell_type": "code",
   "execution_count": 18,
   "metadata": {},
   "outputs": [
    {
     "name": "stdout",
     "output_type": "stream",
     "text": [
      "TMA, no local coefficient preservation: [2. 2. 2. 2.]\n",
      "TMA, local coefficient preservation:[2.001795631286786, 2.0071825251471433, 2.002380897873217, 2.000595224468304]\n",
      "Standard Gaussian solver: [2. 2. 2. 2.]\n"
     ]
    }
   ],
   "source": [
    "C,d = np.array([[-4,1,0,0],[1,-4,1,0],[0,1,-4,1],[0,0,1,-4]],dtype=float),np.array([-6,-4,-4,-6],dtype=float)\n",
    "print(\"TMA, no local coefficient preservation: {0}\".format(tridiagonal_matr_algo(C,d)))\n",
    "print(\"TMA, local coefficient preservation:{0}\".format(tridiagonal_matr_algo(C,d,True)))\n",
    "print(\"Standard Gaussian solver: {0}\".format(np.linalg.solve(C,d)))"
   ]
  },
  {
   "cell_type": "markdown",
   "metadata": {},
   "source": [
    "### [Jacobi method](https://en.wikipedia.org/wiki/Jacobi_method)"
   ]
  },
  {
   "cell_type": "code",
   "execution_count": 18,
   "metadata": {},
   "outputs": [],
   "source": [
    "def dd(A):\n",
    "    D = np.diag(A)\n",
    "    S = np.abs(A - np.diagflat(D))\n",
    "    D = (D * np.ones((D.shape[0],D.shape[0]))).T\n",
    "    if np.all(D > S):\n",
    "        print('matrix is diagonally dominant')\n",
    "        return True\n",
    "    else:\n",
    "        print('NOT diagonally dominant')\n",
    "        return False\n",
    "\n",
    "def spectre(A):\n",
    "    D = np.diagflat(np.diag(A))\n",
    "    R = A - D\n",
    "    rho = np.sum(np.abs(np.dot(np.linalg.inv(D),R)),axis=1)\n",
    "    if np.all(rho<np.ones(rho.shape[0])):\n",
    "        print('Spectral radius <1')\n",
    "        print(rho)\n",
    "        return True\n",
    "    print('Spectral radius > 1')\n",
    "    return False\n",
    "\n",
    "def jacobi(A,b,iters=4,eps=10e-4):\n",
    "    alpha = A - np.diagflat(np.diag(A))\n",
    "    x = np.zeros(len(A))\n",
    "    if dd(A) and spectre(A):\n",
    "        for i in range(iters):\n",
    "            x_new = (b - np.dot(alpha,x))/np.diag(A)\n",
    "            if np.allclose(x, x_new, atol=eps):\n",
    "                print('Reached convergence. Solution is:')\n",
    "                return x_new,i\n",
    "            x = x_new\n",
    "    return x"
   ]
  },
  {
   "cell_type": "code",
   "execution_count": 19,
   "metadata": {},
   "outputs": [
    {
     "name": "stdout",
     "output_type": "stream",
     "text": [
      "matrix is diagonally dominant\n",
      "Spectral radius <1\n",
      "[0.33333333 0.37254902 0.80487805]\n",
      "Reached convergence. Solution is:\n"
     ]
    },
    {
     "data": {
      "text/plain": [
       "(array([ 2.9998062 ,  1.99978199, -1.0003793 ]), 10)"
      ]
     },
     "execution_count": 19,
     "metadata": {},
     "output_type": "execute_result"
    }
   ],
   "source": [
    "A,b = np.array([[36,-9,-3],[-9,38.25,-5.25],[-3,-5.25,10.25]]),np.array([93,54.75,-29.75])\n",
    "jacobi(A,b,1200)"
   ]
  },
  {
   "cell_type": "code",
   "execution_count": 6,
   "metadata": {},
   "outputs": [
    {
     "name": "stdout",
     "output_type": "stream",
     "text": [
      "matrix is diagonally dominant\n",
      "Spectral radius <1\n",
      "Reached convergence. Solution is:\n"
     ]
    },
    {
     "data": {
      "text/plain": [
       "array([1.00006104, 1.00012207, 1.00006104])"
      ]
     },
     "execution_count": 6,
     "metadata": {},
     "output_type": "execute_result"
    }
   ],
   "source": [
    "A = np.array([[2/3,1/6,0],[1/6,2/3,1/6],[0,1/6,2/3]],dtype=float)\n",
    "b = np.array([5/6,1,5/6])\n",
    "jacobi(A,b,iters=10)"
   ]
  },
  {
   "cell_type": "markdown",
   "metadata": {},
   "source": [
    "### [Seidel method](https://en.wikipedia.org/wiki/Gauss%E2%80%93Seidel_method)\n",
    "\n",
    "$Ax = b$<br>\n",
    "\n",
    "$L_* $ - lower triangular component of A <br>\n",
    "$U $  - strict upper triangular component of A<br><br>\n",
    "$T = -L_*^{-1}U$<br>\n",
    "$C=L_*^{-1}b$<br>\n",
    "\n",
    "iteratively, $x^{(k+1)}=Tx^{(k)}+C$"
   ]
  },
  {
   "cell_type": "code",
   "execution_count": 21,
   "metadata": {},
   "outputs": [],
   "source": [
    "def seidel(A,b,x0,eps):\n",
    "    \"\"\"\n",
    "    Arguments:\n",
    "    A -- array of shape(n,n)\n",
    "    b -- array of shape(n,1)\n",
    "    x0 -- initial guess - array of shape(n)\n",
    "    eps -- precision\n",
    "    Returns:\n",
    "    x1 -- array of shape(n,)\n",
    "    n -- number of iterations\n",
    "    \"\"\"\n",
    "    L,U = np.tril(A),np.triu(A,1)\n",
    "    L_inv = np.linalg.inv(L)\n",
    "    \n",
    "    T,C = np.dot(-L_inv,U), np.dot(L_inv,b)\n",
    "    \n",
    "    n, x1 = 0, np.dot(T,x)+C\n",
    "    while not np.allclose(x0,x1,rtol=eps):\n",
    "        x0 = x1\n",
    "        x1 = np.dot(T,x0)+C\n",
    "        n+=1\n",
    "        if n==1000:\n",
    "            return \"smth went wrong\"\n",
    "    return x1,n"
   ]
  },
  {
   "cell_type": "code",
   "execution_count": 57,
   "metadata": {},
   "outputs": [
    {
     "data": {
      "text/plain": [
       "(array([-2.00693063, -0.00923843, -0.98460957]), 18)"
      ]
     },
     "execution_count": 57,
     "metadata": {},
     "output_type": "execute_result"
    }
   ],
   "source": [
    "A,b = np.array([[36,-12,9],[-12,29,12],[9,12,27.5]],dtype=float),np.array([-81,12,-45.25])\n",
    "x = np.array([1,1,1],dtype=float)\n",
    "seidel(A,b,x,1e-3)"
   ]
  },
  {
   "cell_type": "code",
   "execution_count": 64,
   "metadata": {},
   "outputs": [
    {
     "data": {
      "text/plain": [
       "(array([ 1.,  3., -2.]), 15)"
      ]
     },
     "execution_count": 64,
     "metadata": {},
     "output_type": "execute_result"
    }
   ],
   "source": [
    "A,b = np.array([[36,6,12],[6,10,0.5],[12,0.5,20.25]],dtype=float),np.array([30,35,-27])\n",
    "x = np.array([1,1,1],dtype=float)\n",
    "seidel(A,b,x,1e-9)"
   ]
  },
  {
   "cell_type": "code",
   "execution_count": 86,
   "metadata": {},
   "outputs": [
    {
     "data": {
      "text/plain": [
       "(array([1., 1., 1.]), 9)"
      ]
     },
     "execution_count": 86,
     "metadata": {},
     "output_type": "execute_result"
    }
   ],
   "source": [
    "C,d = np.array([[2/3,1/6,0],[1/6,2/3,1/6],[0,1/6,2/3]],dtype=float),np.array([5/6,1,5/6]) \n",
    "x = np.array([0,0,0],dtype=float)\n",
    "seidel(C,d,x,1e-7)"
   ]
  },
  {
   "cell_type": "markdown",
   "metadata": {},
   "source": [
    "## [Lagrange polynomial interpolation](https://en.wikipedia.org/wiki/Lagrange_polynomial)"
   ]
  },
  {
   "cell_type": "code",
   "execution_count": 7,
   "metadata": {},
   "outputs": [],
   "source": [
    "#correct implementation: fit using train, generate an equation, then use it to evaluate test\n",
    "def LagrangePolynomial_fit(X,Y):\n",
    "    x,n = sympy.Symbol('x'),len(X)\n",
    "    function = 0\n",
    "    for i in range(n):\n",
    "        def L(i):\n",
    "            Lv = 1\n",
    "            for j in range(n):\n",
    "                if i!=j:\n",
    "                    Lv*=(x - X[j])/(X[i]-X[j])\n",
    "            return Lv\n",
    "        function+=Y[i]*L(i)\n",
    "    return function\n",
    "def LagrangePolynomial_predict(x,function):\n",
    "    return function.subs({'x':x})"
   ]
  },
  {
   "cell_type": "code",
   "execution_count": null,
   "metadata": {},
   "outputs": [],
   "source": []
  },
  {
   "cell_type": "markdown",
   "metadata": {},
   "source": [
    "## Chebyshev polynomial interpolation"
   ]
  },
  {
   "cell_type": "code",
   "execution_count": null,
   "metadata": {},
   "outputs": [],
   "source": []
  }
 ],
 "metadata": {
  "kernelspec": {
   "display_name": "Python [default]",
   "language": "python",
   "name": "python3"
  },
  "language_info": {
   "codemirror_mode": {
    "name": "ipython",
    "version": 3
   },
   "file_extension": ".py",
   "mimetype": "text/x-python",
   "name": "python",
   "nbconvert_exporter": "python",
   "pygments_lexer": "ipython3",
   "version": "3.6.5"
  }
 },
 "nbformat": 4,
 "nbformat_minor": 2
}
